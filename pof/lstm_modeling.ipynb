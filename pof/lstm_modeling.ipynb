{
  "cells": [
    {
      "cell_type": "markdown",
      "source": [
        "### Environment setup"
      ],
      "metadata": {
        "id": "dAgm0OyOKjAW"
      }
    },
    {
      "cell_type": "code",
      "source": [
        "import re\n",
        "import numpy as np\n",
        "import pandas as pd\n",
        "from tqdm import tqdm\n",
        "\n",
        "import nltk\n",
        "from nltk.tokenize import word_tokenize\n",
        "from nltk.tokenize import sent_tokenize\n",
        "from nltk.corpus import stopwords\n",
        "nltk.download(\"punkt\")\n",
        "nltk.download(\"stopwords\")\n",
        "\n",
        "import keras\n",
        "from keras.preprocessing.text import Tokenizer\n",
        "from keras.preprocessing.sequence import pad_sequences\n",
        "from keras.layers import Embedding, Dropout, LSTM, Dense, Bidirectional\n",
        "from keras.callbacks import EarlyStopping\n",
        "from keras.models import Sequential\n",
        "\n",
        "\n",
        "#from google.colab import drive\n",
        "#drive.mount(\"/content/drive\")\n",
        "data_path = \"/content/drive/MyDrive/elm.txt\"\n",
        "model_save_path = \"/content/drive/MyDrive/lstm_med_elm.h5\""
      ],
      "metadata": {
        "id": "3IizLTxcw2-j"
      },
      "execution_count": 3,
      "outputs": []
    },
    {
      "cell_type": "markdown",
      "source": [
        "### Process data"
      ],
      "metadata": {
        "id": "AioLzvADMzxH"
      }
    },
    {
      "cell_type": "code",
      "source": [
        "with open(data_path, \"r\", encoding=\"utf-8\") as file:\n",
        "    text = file.read()\n",
        "\n",
        "# Remove links from the text.\n",
        "text = re.sub(r\"http\\S+\", \"\", text)\n",
        "\n",
        "# Tokenize text into sentences.\n",
        "sentences = sent_tokenize(text)"
      ],
      "metadata": {
        "id": "pPDZwkXWw3vD"
      },
      "execution_count": null,
      "outputs": []
    },
    {
      "cell_type": "code",
      "source": [
        "df = pd.DataFrame(sentences, columns=[\"sentence\"])\n",
        "\n",
        "# Remove any leading or trailing whitespaces.\n",
        "df[\"sentence\"] = df[\"sentence\"].str.strip()\n",
        "df = df.dropna()\n",
        "df = df[df[\"sentence\"] != \"\"]\n",
        "df = df.reset_index(drop=True)"
      ],
      "metadata": {
        "id": "FG9d7K2kxOrU"
      },
      "execution_count": 5,
      "outputs": []
    },
    {
      "cell_type": "code",
      "source": [
        "def remove_stopwords(sentence):\n",
        "    word_tokens = word_tokenize(sentence)\n",
        "    filtered_sentence = [word for word in word_tokens if word.lower() not in stop_words]\n",
        "    return ' '.join(filtered_sentence)\n",
        "\n",
        "stop_words = set(stopwords.words(\"english\"))\n",
        "df[\"sentence\"] = df[\"sentence\"].apply(remove_stopwords)"
      ],
      "metadata": {
        "id": "iMNUPVv3xUAU"
      },
      "execution_count": null,
      "outputs": []
    },
    {
      "cell_type": "code",
      "source": [
        "def clean_sentence(sentence):\n",
        "    # Remove non-alphabetical characters and leave single whitespaces.\n",
        "    cleaned_sentence = re.sub(r\"[^a-zA-Z\\s]\", \"\", sentence)\n",
        "    # Replace multiple whitespaces with a single whitespace.\n",
        "    cleaned_sentence = re.sub(r\"\\s+\", \" \", cleaned_sentence)\n",
        "    return cleaned_sentence.lower().strip()  # Strip leading and trailing whitespaces and lowercase.\n",
        "\n",
        "df[\"sentence\"] = df[\"sentence\"].apply(clean_sentence)"
      ],
      "metadata": {
        "id": "6nrEAl03xV3t"
      },
      "execution_count": 42,
      "outputs": []
    },
    {
      "cell_type": "code",
      "source": [
        "def extract_last_word(df):\n",
        "    # Extract last word from each sentence and place it in a new column.\n",
        "    df[\"last_word\"] = df[\"sentence\"].apply(lambda x: x.split(\" \")[-1])\n",
        "    # Remove the last word from each sentence.\n",
        "    df[\"sentence\"] = df[\"sentence\"].apply(lambda x: \" \".join(x.split()[:-1]))\n",
        "    return df\n",
        "\n",
        "df = extract_last_word(df)"
      ],
      "metadata": {
        "id": "soEbYa5a0lE4"
      },
      "execution_count": 9,
      "outputs": []
    },
    {
      "cell_type": "markdown",
      "source": [
        "### Preprocess data"
      ],
      "metadata": {
        "id": "CXt2WAk93C9N"
      }
    },
    {
      "cell_type": "code",
      "source": [
        "# Tokenization.\n",
        "tokenizer = Tokenizer(oov_token=\"<UNK>\")\n",
        "tokenizer.fit_on_texts(df[\"sentence\"])\n",
        "vocab_size = len(tokenizer.word_index) + 1"
      ],
      "metadata": {
        "id": "_tlhTyXf3EIK"
      },
      "execution_count": 10,
      "outputs": []
    },
    {
      "cell_type": "code",
      "source": [
        "# Convert sentences to sequences.\n",
        "sequences = tokenizer.texts_to_sequences(df[\"sentence\"])\n",
        "\n",
        "# Pad sequences.\n",
        "max_len = max([len(seq) for seq in sequences])\n",
        "padded_sequences = pad_sequences(sequences, maxlen=max_len, padding=\"post\")"
      ],
      "metadata": {
        "id": "FNesPcpI3KBd"
      },
      "execution_count": 11,
      "outputs": []
    },
    {
      "cell_type": "code",
      "source": [
        "# Create input and output sequences.\n",
        "X = np.array(padded_sequences)\n",
        "y_text = df[\"last_word\"]\n",
        "\n",
        "# Tokenize output data-\n",
        "y_sequences = tokenizer.texts_to_sequences(y_text)\n",
        "for i, seq in enumerate(y_sequences):\n",
        "    if len(seq) == 0:\n",
        "      y_sequences[i] = [tokenizer.word_index[\"<UNK>\"]]\n",
        "# Convert to numpy array\n",
        "y = np.array([sequence[0] for sequence in y_sequences if len(sequence) != 0])"
      ],
      "metadata": {
        "id": "U_O15TSZ3Qlm"
      },
      "execution_count": 12,
      "outputs": []
    },
    {
      "cell_type": "markdown",
      "source": [
        "### Model configuration and training"
      ],
      "metadata": {
        "id": "WsVLcNq5NGXw"
      }
    },
    {
      "cell_type": "code",
      "source": [
        "# Model architecture\n",
        "embedding_dim = 50\n",
        "model = Sequential()\n",
        "model.add(Embedding(input_dim=vocab_size, output_dim=embedding_dim, input_length=max_len))\n",
        "model.add(Bidirectional(LSTM(128)))\n",
        "model.add(Dense(vocab_size, activation=\"softmax\"))\n",
        "\n",
        "# Compile the model\n",
        "model.compile(loss=\"sparse_categorical_crossentropy\", optimizer=\"adam\", metrics=[\"accuracy\"])\n",
        "\n",
        "# Train the model\n",
        "model.fit(X, y, epochs=30, verbose=1)"
      ],
      "metadata": {
        "colab": {
          "base_uri": "https://localhost:8080/"
        },
        "id": "7ksjvjbcx88R",
        "outputId": "60566818-2335-469e-9cb8-b46a0774c058"
      },
      "execution_count": 14,
      "outputs": [
        {
          "output_type": "stream",
          "name": "stdout",
          "text": [
            "Epoch 1/30\n",
            "2523/2523 [==============================] - 129s 49ms/step - loss: 7.3393 - accuracy: 0.0796\n",
            "Epoch 2/30\n",
            "2523/2523 [==============================] - 96s 38ms/step - loss: 6.4572 - accuracy: 0.1230\n",
            "Epoch 3/30\n",
            "2523/2523 [==============================] - 95s 38ms/step - loss: 5.9503 - accuracy: 0.1498\n",
            "Epoch 4/30\n",
            "2523/2523 [==============================] - 94s 37ms/step - loss: 5.4919 - accuracy: 0.1736\n",
            "Epoch 5/30\n",
            "2523/2523 [==============================] - 94s 37ms/step - loss: 5.0500 - accuracy: 0.1948\n",
            "Epoch 6/30\n",
            "2523/2523 [==============================] - 94s 37ms/step - loss: 4.6248 - accuracy: 0.2197\n",
            "Epoch 7/30\n",
            "2523/2523 [==============================] - 93s 37ms/step - loss: 4.2221 - accuracy: 0.2502\n",
            "Epoch 8/30\n",
            "2523/2523 [==============================] - 94s 37ms/step - loss: 3.8434 - accuracy: 0.2905\n",
            "Epoch 9/30\n",
            "2523/2523 [==============================] - 94s 37ms/step - loss: 3.4781 - accuracy: 0.3394\n",
            "Epoch 10/30\n",
            "2523/2523 [==============================] - 94s 37ms/step - loss: 3.1421 - accuracy: 0.3924\n",
            "Epoch 11/30\n",
            "2523/2523 [==============================] - 94s 37ms/step - loss: 2.8227 - accuracy: 0.4483\n",
            "Epoch 12/30\n",
            "2523/2523 [==============================] - 94s 37ms/step - loss: 2.5215 - accuracy: 0.5027\n",
            "Epoch 13/30\n",
            "2523/2523 [==============================] - 94s 37ms/step - loss: 2.2687 - accuracy: 0.5486\n",
            "Epoch 14/30\n",
            "2523/2523 [==============================] - 94s 37ms/step - loss: 2.0711 - accuracy: 0.5864\n",
            "Epoch 15/30\n",
            "2523/2523 [==============================] - 94s 37ms/step - loss: 1.8331 - accuracy: 0.6318\n",
            "Epoch 16/30\n",
            "2523/2523 [==============================] - 94s 37ms/step - loss: 1.6463 - accuracy: 0.6671\n",
            "Epoch 17/30\n",
            "2523/2523 [==============================] - 94s 37ms/step - loss: 1.5876 - accuracy: 0.6758\n",
            "Epoch 18/30\n",
            "2523/2523 [==============================] - 93s 37ms/step - loss: 1.3294 - accuracy: 0.7307\n",
            "Epoch 19/30\n",
            "2523/2523 [==============================] - 93s 37ms/step - loss: 1.2063 - accuracy: 0.7551\n",
            "Epoch 20/30\n",
            "2523/2523 [==============================] - 119s 47ms/step - loss: 1.1193 - accuracy: 0.7705\n",
            "Epoch 21/30\n",
            "2523/2523 [==============================] - 95s 38ms/step - loss: 1.0225 - accuracy: 0.7918\n",
            "Epoch 22/30\n",
            "2523/2523 [==============================] - 97s 38ms/step - loss: 0.9143 - accuracy: 0.8140\n",
            "Epoch 23/30\n",
            "2523/2523 [==============================] - 94s 37ms/step - loss: 0.8489 - accuracy: 0.8258\n",
            "Epoch 24/30\n",
            "2523/2523 [==============================] - 94s 37ms/step - loss: 0.7802 - accuracy: 0.8402\n",
            "Epoch 25/30\n",
            "2523/2523 [==============================] - 94s 37ms/step - loss: 0.7257 - accuracy: 0.8511\n",
            "Epoch 26/30\n",
            "2523/2523 [==============================] - 94s 37ms/step - loss: 0.7443 - accuracy: 0.8441\n",
            "Epoch 27/30\n",
            "2523/2523 [==============================] - 94s 37ms/step - loss: 0.6207 - accuracy: 0.8738\n",
            "Epoch 28/30\n",
            "2523/2523 [==============================] - 94s 37ms/step - loss: 0.6077 - accuracy: 0.8730\n",
            "Epoch 29/30\n",
            "2523/2523 [==============================] - 94s 37ms/step - loss: 0.5690 - accuracy: 0.8819\n",
            "Epoch 30/30\n",
            "2523/2523 [==============================] - 108s 43ms/step - loss: 0.5524 - accuracy: 0.8838\n"
          ]
        },
        {
          "output_type": "execute_result",
          "data": {
            "text/plain": [
              "<keras.src.callbacks.History at 0x7d82511c9ba0>"
            ]
          },
          "metadata": {},
          "execution_count": 14
        }
      ]
    },
    {
      "cell_type": "code",
      "source": [
        "model.save(model_save_path)"
      ],
      "metadata": {
        "colab": {
          "base_uri": "https://localhost:8080/"
        },
        "id": "Dx6AoQsiIXl0",
        "outputId": "f23f285c-831c-4a14-99e0-16bf99b78e76"
      },
      "execution_count": 19,
      "outputs": [
        {
          "output_type": "stream",
          "name": "stderr",
          "text": [
            "/usr/local/lib/python3.10/dist-packages/keras/src/engine/training.py:3103: UserWarning: You are saving your model as an HDF5 file via `model.save()`. This file format is considered legacy. We recommend using instead the native Keras format, e.g. `model.save('my_model.keras')`.\n",
            "  saving_api.save_model(\n"
          ]
        }
      ]
    },
    {
      "cell_type": "markdown",
      "source": [
        "### Query completion"
      ],
      "metadata": {
        "id": "GHdIX5AQNoDe"
      }
    },
    {
      "cell_type": "code",
      "source": [
        "def complete_query(seed_text, next_words, tokenizer, model, max_sequence_len):\n",
        "    \"\"\"Utility function for generating a select number of words from the initial seed text.\"\"\"\n",
        "    for _ in range(next_words):\n",
        "        token_list = tokenizer.texts_to_sequences([seed_text])[0]\n",
        "        token_list = pad_sequences(\n",
        "            [token_list], maxlen=max_sequence_len, padding=\"pre\"\n",
        "        )  # Pad sequences to match model input shape.\n",
        "\n",
        "        predictions = model.predict(token_list, verbose=0)\n",
        "        predicted_class_index = np.argmax(predictions)\n",
        "\n",
        "        output_word = \"\"\n",
        "        for word, index in tokenizer.word_index.items():\n",
        "            if index == predicted_class_index:\n",
        "                output_word = word\n",
        "                break\n",
        "        seed_text += \" \" + output_word\n",
        "    return seed_text"
      ],
      "metadata": {
        "id": "vN0Fwm4gE6iM"
      },
      "execution_count": 27,
      "outputs": []
    },
    {
      "cell_type": "code",
      "source": [
        "seed_text = \"\"\n",
        "output = complete_query(\n",
        "        seed_text=seed_text,\n",
        "        next_words=1,\n",
        "        tokenizer=tokenizer,\n",
        "        model=model,\n",
        "        max_sequence_len=max_len,\n",
        "    )\n",
        "print(output)"
      ],
      "metadata": {
        "colab": {
          "base_uri": "https://localhost:8080/"
        },
        "id": "mp1HTC7iJlkZ",
        "outputId": "836e8b77-62ab-44ad-c5c0-2654bf84a291"
      },
      "execution_count": 35,
      "outputs": [
        {
          "output_type": "stream",
          "name": "stdout",
          "text": [
            "fever feb\n"
          ]
        }
      ]
    }
  ],
  "metadata": {
    "kernelspec": {
      "display_name": "Python 3",
      "name": "python3"
    },
    "language_info": {
      "codemirror_mode": {
        "name": "ipython",
        "version": 3
      },
      "file_extension": ".py",
      "mimetype": "text/x-python",
      "name": "python",
      "nbconvert_exporter": "python",
      "pygments_lexer": "ipython3",
      "version": "3.8.0"
    },
    "colab": {
      "provenance": [],
      "gpuType": "T4"
    },
    "accelerator": "GPU"
  },
  "nbformat": 4,
  "nbformat_minor": 0
}